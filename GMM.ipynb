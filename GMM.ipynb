{
 "cells": [
  {
   "cell_type": "code",
   "execution_count": null,
   "id": "284d09a0-1515-47de-b133-069ccb244646",
   "metadata": {},
   "outputs": [],
   "source": [
    "from sklearn.preprocessing import  StandardScaler\n",
    "from sklearn.mixture import GaussianMixture\n",
    "import pandas as pd\n",
    "data = pd.read_csv('Healthcare Providers.csv')\n",
    "df = pd.DataFrame(data)\n",
    "\n",
    "df['Number of Medicare Beneficiaries'] = pd.to_numeric(df['Number of Medicare Beneficiaries'].str.replace(',', ''), errors='coerce')\n",
    "df['Average Medicare Allowed Amount'] = pd.to_numeric(df['Average Medicare Allowed Amount'].str.replace(',', ''), errors='coerce')\n",
    "df['Average Medicare Payment Amount'] = pd.to_numeric(df['Average Medicare Payment Amount'].str.replace(',', ''), errors='coerce')\n",
    "\n",
    "# Remove rows where conversion resulted in NaN\n",
    "df = df.dropna(subset=['Number of Medicare Beneficiaries', 'Average Medicare Allowed Amount', 'Average Medicare Payment Amount'])\n",
    "\n",
    "# Filter out rows where 'Number of Medicare Beneficiaries' is zero\n",
    "df = df[df['Number of Medicare Beneficiaries'] > 0]\n",
    "\n",
    "# Encode 'Gender of the Provider' for GMM\n",
    "label_encoder = LabelEncoder()\n",
    "df['Gender Encoded'] = label_encoder.fit_transform(df['Gender of the Provider'])\n",
    "\n",
    "# Define the features (X)\n",
    "X = df[['Average Medicare Allowed Amount', 'Number of Medicare Beneficiaries', 'Gender Encoded']]\n",
    "\n",
    "# Feature scaling (important for GMM)\n",
    "scaler = StandardScaler()\n",
    "X_scaled = scaler.fit_transform(X)\n",
    "\n",
    "# Initialize and fit the Gaussian Mixture Model\n",
    "gmm = GaussianMixture(n_components=2, covariance_type='full', random_state=0)  # Adjust n_components as necessary\n",
    "gmm.fit(X_scaled)\n",
    "\n",
    "# Compute log probabilities of each sample and classify anomalies\n",
    "log_probs = gmm.score_samples(X_scaled)\n",
    "threshold = np.percentile(log_probs, 2)\n",
    "anomalies = log_probs < threshold\n",
    "\n",
    "# Add a column in the dataframe to flag anomalies\n",
    "df['Anomaly'] = anomalies\n",
    "print(df['Anomaly'])\n",
    "\n",
    "# Print the number of anomalies detected\n",
    "print(f'Number of anomalies detected: {sum(anomalies)}')\n",
    "\n",
    "# Plotting anomalies vs non-anomalies\n",
    "plt.scatter(df['Average Medicare Allowed Amount'], df['Average Medicare Payment Amount'], c=anomalies, cmap='coolwarm')\n",
    "plt.xlabel('Average Medicare Allowed Amount')\n",
    "plt.ylabel('Average Medicare Payment Amount')\n",
    "plt.title('GMM Anomaly Detection')\n",
    "plt.show()\n"
   ]
  },
  {
   "cell_type": "code",
   "execution_count": null,
   "id": "5719f7d5-f2a8-40c1-919f-dbd6c735ad70",
   "metadata": {},
   "outputs": [],
   "source": []
  }
 ],
 "metadata": {
  "kernelspec": {
   "display_name": "Python 3 (ipykernel)",
   "language": "python",
   "name": "python3"
  },
  "language_info": {
   "codemirror_mode": {
    "name": "ipython",
    "version": 3
   },
   "file_extension": ".py",
   "mimetype": "text/x-python",
   "name": "python",
   "nbconvert_exporter": "python",
   "pygments_lexer": "ipython3",
   "version": "3.11.7"
  }
 },
 "nbformat": 4,
 "nbformat_minor": 5
}
